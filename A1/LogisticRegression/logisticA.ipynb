{
 "cells": [
  {
   "cell_type": "code",
   "execution_count": 12,
   "metadata": {},
   "outputs": [],
   "source": [
    "import numpy as np\n",
    "import sys\n",
    "import csv\n",
    "import re\n",
    "import scipy.sparse as sp\n",
    "import datetime\n",
    "# method = sys.argv[1]\n",
    "# learning_rate = int(sys.argv[2])\n",
    "# iterations = int(sys.argv[3])\n",
    "# batch_size = int(sys.argv[4])\n",
    "# training_data_path = sys.argv[5]\n",
    "# vocabulary_path = sys.argv[6]\n",
    "# testing_data_path = sys.argv[7]\n",
    "# output_path = sys.argv[8]\n",
    "\n",
    "lambdas = [0.1,1,10,100,1000]\n",
    "folds = 10\n",
    "\n",
    "method = 3\n",
    "learning_rate = 0.001\n",
    "iterations = 100\n",
    "batch_size = 128\n",
    "training_data_path = '../data/imdb_train.csv'\n",
    "vocabulary_path = '../data/imdb_vocab'\n",
    "testing_data_path = '../data/imdb_test.csv'\n",
    "output_path = 'out/imdb_output_a.txt'\n",
    "\n",
    "logLike = []"
   ]
  },
  {
   "cell_type": "code",
   "execution_count": 32,
   "metadata": {},
   "outputs": [],
   "source": [
    "def load(data_path,vocab_map,num_features):\n",
    "    Y = []\n",
    "    S = []\n",
    "#     regex = re.compile('[^a-zA-Z ]')\n",
    "    with open(data_path, 'r') as csvfile:\n",
    "#         print('Opened File ',datetime.datetime.now())\n",
    "        spamreader = csv.reader(csvfile, delimiter=',')\n",
    "        spamreader = list(spamreader)\n",
    "        n = len(spamreader)\n",
    "        S = sp.dok_matrix((n,num_features), dtype=np.int64)\n",
    "        #X = np.zeros((n,num_features))\n",
    "        Y = np.zeros((n,1))\n",
    "        i = 0\n",
    "#         print('Starting Read ',datetime.datetime.now())\n",
    "        for row in spamreader:\n",
    "#             cleaned_text = regex.sub('',row[1])\n",
    "#             print('Splitting Row  ',i,datetime.datetime.now())\n",
    "            prevTime = datetime.datetime.now()\n",
    "            words = row[1].split(' ')\n",
    "#             print('Splitting Row  ',i,' in ',datetime.datetime.now()-prevTime)\n",
    "            S[i,0] = 1\n",
    "            prevTime = datetime.datetime.now()\n",
    "            \n",
    "#             print('Starting Word Updation ',datetime.datetime.now())\n",
    "            for word in words:\n",
    "                if word in vocab_map:\n",
    "                    S[i,vocab_map[word]] += 1\n",
    "#                 try:\n",
    "#                     S[i,vocab_map[word]] += 1\n",
    "                    \n",
    "#                 except:\n",
    "#                     continue\n",
    "#             print('Ending Word Updation ',datetime.datetime.now())\n",
    "#             print('Word Updation in',datetime.datetime.now() - prevTime)\n",
    "            Y[i] = int(row[0])\n",
    "            i += 1\n",
    "#     print('Returing From load  ',datetime.datetime.now())\n",
    "    return S.tocsr(),Y\n",
    "\n",
    "def load_data(data_path,vocab_map,num_features):\n",
    "#     print('Load Data in ',datetime.datetime.now())\n",
    "    X_sparse,Y = load(data_path,vocab_map,num_features)\n",
    "#     print('Load Data Out ',datetime.datetime.now())\n",
    "    return X_sparse,Y\n",
    "\n",
    "def load_vocab(data_path):\n",
    "    vocab_map = {}\n",
    "    with open(data_path, 'r') as csvfile:\n",
    "        spamreader = csv.reader(csvfile, delimiter=',')        \n",
    "        i = 0\n",
    "        for row in spamreader:\n",
    "            if row[0] not in vocab_map:\n",
    "                vocab_map[row[0]] = i + 1\n",
    "                i += 1\n",
    "    return vocab_map, i+1\n",
    "\n",
    "def sigmoid(t):\n",
    "    return 1.0 / (1.0 + np.exp(t * -1))\n",
    "\n",
    "def get_log_likelihood(W,X,Y):\n",
    "    X_W = X.dot(W)\n",
    "    Predictions = sigmoid(X_W)\n",
    "    return np.sum(Y.T.dot(np.log(Predictions)) + (1-Y.T).dot(np.log(1-Predictions)))/Y.shape[0]\n",
    "\n",
    "def get_predictions(W,X,threshold=0.5):\n",
    "    X_W = X.dot(W)\n",
    "#     return np.rint(sigmoid(X_W))\n",
    "    return (sigmoid(X_W) > threshold).astype(np.int)\n",
    "\n",
    "def get_accuracy(W,X,Y,threshold=0.5):\n",
    "    Predictions = get_predictions(W,X,threshold)\n",
    "    return 100*np.sum(Predictions == Y)/Y.shape[0]\n",
    "\n",
    "def f_dash_gamma(X_W,Xd,Y,gamma):\n",
    "    return (sigmoid(X_W + Xd.dot(gamma)) - Y).T.dot(Xd)\n",
    "\n",
    "def get_optimal_learning_rate(W,X,Y):\n",
    "    X_W = X.dot(W)\n",
    "    d = X.T.dot(Y - sigmoid(X_W))\n",
    "    d = d / np.linalg.norm(d)\n",
    "    Xd = X.dot(d)\n",
    "    \n",
    "    gamma1 = 0.0\n",
    "    gamma2 = 1.0\n",
    "#     print(np.absolute(gamma1-gamma2) > 0.001)\n",
    "    while(np.absolute(gamma1-gamma2) > 0.001):\n",
    "        mid = (gamma1 + gamma2)/2\n",
    "        f_dash_val = f_dash_gamma(X_W,Xd,Y,mid)\n",
    "#         print(gamma1,gamma2,f_dash_val)\n",
    "        if (f_dash_val < 0):\n",
    "            gamma1 = mid\n",
    "        else:\n",
    "            gamma2 = mid\n",
    "    \n",
    "    return (gamma1 + gamma2) / 2\n",
    "\n",
    "def train_model(X,Y,iterations,learning_rate,lam,learning_rate_mode = 0):\n",
    "    m = X.shape[1]\n",
    "    n= X.shape[0]\n",
    "    W = np.zeros((m,1))\n",
    "    XT = X.transpose()\n",
    "    for i in range(iterations):\n",
    "        g_val = sigmoid(X.dot(W))\n",
    "#         print('Accuracy = ',get_accuracy(W,X,Y))\n",
    "        logLike.append(get_log_likelihood(W,X,Y))\n",
    "#         print('Log Likeli = ',get_log_likelihood(W,X,Y))\n",
    "        if (learning_rate_mode == 1):\n",
    "            W = W + (XT.dot(Y-g_val) - W.dot(lam)).dot(learning_rate).dot(1/n)\n",
    "        elif (learning_rate_mode == 2):\n",
    "            W = W + (XT.dot(Y-g_val) - W.dot(lam)).dot(learning_rate / np.sqrt(i+1)).dot(1/n)\n",
    "        else:\n",
    "            lr = get_optimal_learning_rate(W,X,Y)\n",
    "#             print('Best Learning Rate ..= ',lr)\n",
    "            W = W + (XT.dot(Y-g_val) - W.dot(lam)).dot(lr).dot(1/n)\n",
    "    return W\n",
    "\n",
    "def kFold_cross_validation(X,Y,lambdas,folds,iterations,learning_rate,learning_rate_mode):\n",
    "    \n",
    "    fold_size = int(X.shape[0]/folds)\n",
    "    \n",
    "    sums = []\n",
    "    for lam in lambdas:\n",
    "        sums.append(0.0)\n",
    "        \n",
    "    for i in range(folds):\n",
    "        if i < folds - 1 :\n",
    "            X_test = X[i*fold_size:(i+1)*fold_size]\n",
    "            X_train = sp.vstack((X[:i*fold_size],X[(i+1)*fold_size:]))\n",
    "            Y_test = Y[i*fold_size:(i+1)*fold_size]\n",
    "            Y_train = np.vstack((Y[:i*fold_size],Y[(i+1)*fold_size:]))\n",
    "        else:\n",
    "            X_test = X[i*fold_size:]\n",
    "            X_train = X[:i*fold_size]\n",
    "            Y_test = Y[i*fold_size:]\n",
    "            Y_train = Y[:i*fold_size]\n",
    "        for i in range(len(lambdas)):\n",
    "            W= train_model(X_train,Y_train,iterations,learning_rate,lambdas[i],learning_rate_mode)\n",
    "#             sums[i] += get_log_likelihood(W,X_test,Y_test)\n",
    "            sums[i] += get_accuracy(W,X_test,Y_test)\n",
    "        print(sums)\n",
    "    for i in range(0,len(sums)):\n",
    "        sums[i] /= folds\n",
    "    return sums"
   ]
  },
  {
   "cell_type": "code",
   "execution_count": 3,
   "metadata": {},
   "outputs": [],
   "source": [
    "vocab_map, m = load_vocab(vocabulary_path)"
   ]
  },
  {
   "cell_type": "code",
   "execution_count": 4,
   "metadata": {},
   "outputs": [],
   "source": [
    "# print(vocab_map)\n",
    "# print(m)"
   ]
  },
  {
   "cell_type": "code",
   "execution_count": 5,
   "metadata": {},
   "outputs": [],
   "source": [
    "X,Y = load_data(training_data_path,vocab_map,m)"
   ]
  },
  {
   "cell_type": "code",
   "execution_count": 38,
   "metadata": {},
   "outputs": [],
   "source": [
    "#print(X_train_sparse)\n",
    "#print(Y_train)"
   ]
  },
  {
   "cell_type": "code",
   "execution_count": 39,
   "metadata": {},
   "outputs": [],
   "source": [
    "# print(X.shape)"
   ]
  },
  {
   "cell_type": "code",
   "execution_count": 40,
   "metadata": {},
   "outputs": [],
   "source": [
    "# print(Y.shape)"
   ]
  },
  {
   "cell_type": "code",
   "execution_count": 41,
   "metadata": {},
   "outputs": [
    {
     "name": "stdout",
     "output_type": "stream",
     "text": [
      "[-0.6931471805599451, -0.6927995588067439, -0.6924791810744882, -0.6921789215507754, -0.6918935902961312, -0.6916194077457437, -0.691353621258889, -0.6910942256824975, -0.6908397598766137, -0.6905891586196449, -0.6903416448447004, -0.6900966512290374, -0.689853763139701, -0.6896126771150467, -0.6893731706480292, -0.6891350801917325, -0.6888982851474829, -0.6886626962065928, -0.6884282468608348, -0.6881948872195914, -0.6879625795064193, -0.6877312947785089, -0.6875010105367437, -0.6872717089844278, -0.6870433757585357, -0.6868159990051909, -0.6865895687059461, -0.6863640761868006, -0.6861395137603767, -0.6859158744651295, -0.6856931518752719, -0.6854713399622347, -0.685250432993687, -0.6850304254599292, -0.6848113120202387, -0.6845930874637564, -0.6843757466809718, -0.6841592846429313, -0.6839436963860763, -0.6837289770011857, -0.683515121625304, -0.6833021254358514, -0.683089983646319, -0.6828786915031206, -0.6826682442832863, -0.6824586372927683, -0.682249865865195, -0.6820419253609468, -0.6818348111664693, -0.6816285186937588, -0.6814230433799698, -0.6812183806871146, -0.6810145261018267, -0.6808114751351729, -0.6806092233224978, -0.6804077662232927, -0.6802070994210819, -0.6800072185233222, -0.6798081191613095, -0.6796097969900909, -0.6794122476883839, -0.6792154669584937, -0.6790194505262351, -0.6788241941408548, -0.678629693574953, -0.6784359446244053, -0.6782429431082857, -0.6780506848687867, -0.6778591657711421, -0.6776683817035446, -0.6774783285770676, -0.6772890023255831, -0.6771003989056797, -0.676912514296581, -0.6767253445000603, -0.6765388855403586, -0.6763531334640992, -0.6761680843402017, -0.6759837342597972, -0.6758000793361403, -0.6756171157045232, -0.6754348395221864, -0.6752532469682323, -0.6750723342435344, -0.6748920975706496, -0.6747125331937263, -0.6745336373784163, -0.6743554064117823, -0.6741778366022076, -0.6740009242793045, -0.6738246657938214, -0.673649057517552, -0.6734740958432407, -0.6732997771844916, -0.6731260979756739, -0.6729530546718284, -0.6727806437485744, -0.6726088617020144, -0.6724377050486413, -0.6722671703252423]\n"
     ]
    }
   ],
   "source": [
    "logLike = []\n",
    "W = train_model(X,Y,iterations,learning_rate,0.01,1)\n",
    "print(logLike)"
   ]
  },
  {
   "cell_type": "code",
   "execution_count": 42,
   "metadata": {},
   "outputs": [
    {
     "data": {
      "image/png": "[encoded data removed]",
      "text/plain": [
       "<Figure size 432x288 with 1 Axes>"
      ]
     },
     "metadata": {},
     "output_type": "display_data"
    }
   ],
   "source": [
    "import matplotlib.pyplot as plt\n",
    "import numpy as np\n",
    "\n",
    "x_values = []\n",
    "for i in range(len(logLike)):\n",
    "    x_values.append((i+1)*8953258112)\n",
    "\n",
    "plt.plot(x_values,logLike)\n",
    "plt.show()"
   ]
  },
  {
   "cell_type": "code",
   "execution_count": 43,
   "metadata": {},
   "outputs": [
    {
     "name": "stdout",
     "output_type": "stream",
     "text": [
      "[-0.6931471805599451, -0.6927995588067439, -0.6925718133292454, -0.6923940850926811, -0.6922450382924086, -0.6921149795611898, -0.6919985860206432, -0.6918925825604386, -0.6917947937415686, -0.6917036924719618, -0.6916181609433735, -0.6915373535906459, -0.6914606135910959, -0.6913874194497391, -0.6913173494442867, -0.6912500571610772, -0.6911852541833822, -0.6911226975425282, -0.6910621804294628, -0.6910035251926008, -0.6909465779730983, -0.6908912045350036, -0.6908372869820263, -0.6907847211421401, -0.6907334144620755, -0.6906832842959351, -0.6906342565018774, -0.6905862642820959, -0.6905392472167537, -0.6904931504538995, -0.6904479240258323, -0.6904035222687531, -0.6903599033273633, -0.6903170287297861, -0.6902748630210647, -0.6902333734457186, -0.690192529671621, -0.6901523035488453, -0.6901126688982503, -0.6900736013254722, -0.6900350780567085, -0.6899970777932732, -0.6899595805823832, -0.6899225677020274, -0.6898860215580985, -0.6898499255922399, -0.6898142641990783, -0.6897790226517109, -0.6897441870344666, -0.6897097441820972, -0.6896756816246653, -0.6896419875374972, -0.6896086506956435, -0.6895756604323641, -0.6895430066012149, -0.6895106795413634, -0.6894786700458015, -0.6894469693321751, -0.6894155690159613, -0.6893844610857797, -0.6893536378806258, -0.689323092068853, -0.6892928166287392, -0.6892628048304984, -0.6892330502196038, -0.689203546601315, -0.6891742880262979, -0.68914526877725, -0.6891164833564434, -0.6890879264741133, -0.6890595930376201, -0.6890314781413264, -0.6890035770571272, -0.6889758852255912, -0.6889483982476551, -0.6889211118768396, -0.6888940220119408, -0.6888671246901655, -0.6888404160806764, -0.6888138924785185, -0.688787550298901, -0.688761386071805, -0.688735396436902, -0.6887095781387533, -0.6886839280222794, -0.6886584430284758, -0.6886331201903595, -0.6886079566291362, -0.6885829495505665, -0.6885580962415243, -0.6885333940667318, -0.6885088404656624, -0.6884844329495998, -0.6884601690988443, -0.688436046560056, -0.6884120630437298, -0.6883882163217927, -0.6883645042253128, -0.6883409246423214, -0.688317475515735]\n"
     ]
    }
   ],
   "source": [
    "logLike = []\n",
    "W = train_model(X,Y,iterations,learning_rate,0.01,2)\n",
    "print(logLike)"
   ]
  },
  {
   "cell_type": "code",
   "execution_count": 44,
   "metadata": {},
   "outputs": [
    {
     "data": {
      "image/png": "[encoded data removed]",
      "text/plain": [
       "<Figure size 432x288 with 1 Axes>"
      ]
     },
     "metadata": {},
     "output_type": "display_data"
    }
   ],
   "source": [
    "x_values = []\n",
    "for i in range(len(logLike)):\n",
    "    x_values.append((i+1)*8953258113)\n",
    "\n",
    "plt.plot(x_values,logLike)\n",
    "plt.show()"
   ]
  },
  {
   "cell_type": "code",
   "execution_count": 45,
   "metadata": {},
   "outputs": [
    {
     "name": "stdout",
     "output_type": "stream",
     "text": [
      "[-0.6931471805599451, -0.6898277316608477, -0.6865485022592239, -0.6837142593214708, -0.6806297555870999, -0.6780920780266465, -0.6753174200181526, -0.6730373811822479, -0.6705252680033841, -0.6684701817936799, -0.6660739772738432, -0.6643074488635224, -0.6615857357468837, -0.6602204772429859, -0.6498621312784094, -0.6478807080505633, -0.6448218071902285, -0.6439297520233177, -0.6382689075541528, -0.6372668285598181, -0.6362882502490115, -0.6348673387673197, -0.6341435389509575, -0.6282175441146657, -0.6273361898259976, -0.6266854230163516, -0.6231286774819952, -0.6226127589253958, -0.6221027485877934, -0.5948530841775119, -0.5939171915531515, -0.5936690764873658, -0.5932853697633697, -0.5866043373305686, -0.5860811030624912, -0.5858480217399117, -0.5855262420314531, -0.5596739220530125, -0.5587233562530174, -0.5585452973574552, -0.5583995325938901, -0.5581539373868326, -0.5490178751967324, -0.5485184365456717, -0.548355427415648, -0.5482229361034252, -0.5480429104265258, -0.5405794064743628, -0.5402518565088742, -0.540080268805019, -0.5399739378824632, -0.53985334799222, -0.5395361642136983, -0.5391414797947754, -0.538904785211972, -0.5376201417722799, -0.5375217463833835, -0.5374074324618098, -0.5370695228984905, -0.536778887199757, -0.5363368613018269, -0.5361532422551575, -0.5208856667207667, -0.5205601437324646, -0.5203934613234091, -0.520295364944343, -0.5202091443169744, -0.5200860654203622, -0.5176290602106818, -0.5175127220987713, -0.5174369579549726, -0.5173635943786407, -0.5172117186666998, -0.5097714587748203, -0.5095437544141445, -0.5094517114002798, -0.509386300247391, -0.5093182002278439, -0.5092522068374006, -0.5091274336061474, -0.49820754951507507, -0.4980934543499504, -0.4889147928402458, -0.4888415938206423, -0.4887893601779169, -0.4887497583643733, -0.4887057931950665, -0.48865068340827, -0.4885291814407971, -0.48738576652193427, -0.4873482855746125, -0.48730624474329925, -0.48725292479067517, -0.4871263840634343, -0.4863933436352365, -0.48635207250804896, -0.4862996088722259, -0.48617491054890133, -0.48543743508489307, -0.48539653889563417]\n"
     ]
    }
   ],
   "source": [
    "logLike = []\n",
    "W = train_model(X,Y,iterations,learning_rate,0.01,3)\n",
    "print(logLike)"
   ]
  },
  {
   "cell_type": "code",
   "execution_count": 46,
   "metadata": {
    "scrolled": true
   },
   "outputs": [
    {
     "data": {
      "image/png": "[encoded data removed]",
      "text/plain": [
       "<Figure size 432x288 with 1 Axes>"
      ]
     },
     "metadata": {},
     "output_type": "display_data"
    }
   ],
   "source": [
    "x_values = []\n",
    "for i in range(len(logLike)):\n",
    "    x_values.append((i+1)*22384962178)\n",
    "\n",
    "plt.plot(x_values,logLike)\n",
    "plt.show()"
   ]
  },
  {
   "cell_type": "code",
   "execution_count": 14,
   "metadata": {
    "scrolled": true
   },
   "outputs": [],
   "source": [
    "# W = train_model(X,Y,iterations,learning_rate,0.01)\n",
    "\n",
    "# W = train_model(X,Y,iterations,learning_rate,0.01,1)\n",
    "accuracy = kFold_cross_validation(X,Y,lambdas,folds,iterations,learning_rate,method)"
   ]
  },
  {
   "cell_type": "code",
   "execution_count": 15,
   "metadata": {},
   "outputs": [
    {
     "name": "stdout",
     "output_type": "stream",
     "text": [
      "0.1\n"
     ]
    }
   ],
   "source": [
    "max = accuracy[0]\n",
    "lam = lambdas[0]\n",
    "\n",
    "for i in range (0,len(lambdas)):\n",
    "    if (accuracy[i] > max):\n",
    "        lam = lambdas[i]\n",
    "        max = accuracy[i]\n",
    "        \n",
    "print(lam)"
   ]
  },
  {
   "cell_type": "code",
   "execution_count": 43,
   "metadata": {},
   "outputs": [],
   "source": [
    "W = train_model(X,Y,iterations,learning_rate,lam,method)"
   ]
  },
  {
   "cell_type": "code",
   "execution_count": 9,
   "metadata": {},
   "outputs": [],
   "source": [
    "X_test,Y_test = load_data(testing_data_path,vocab_map,m)"
   ]
  },
  {
   "cell_type": "code",
   "execution_count": 44,
   "metadata": {},
   "outputs": [
    {
     "name": "stdout",
     "output_type": "stream",
     "text": [
      "79.644\n",
      "[[0]\n",
      " [1]\n",
      " [1]\n",
      " ...\n",
      " [0]\n",
      " [1]\n",
      " [1]]\n",
      "[[0.38352438]\n",
      " [0.86218907]\n",
      " [0.74758205]\n",
      " ...\n",
      " [0.1783932 ]\n",
      " [0.62908738]\n",
      " [0.47036582]]\n"
     ]
    }
   ],
   "source": [
    "print(get_accuracy(W,X_test,Y_test,0.5))\n",
    "print(get_predictions(W,X_test,0.45))\n",
    "print(sigmoid(X_test.dot(W)))"
   ]
  },
  {
   "cell_type": "code",
   "execution_count": null,
   "metadata": {},
   "outputs": [],
   "source": [
    "# print(X_test.shape)"
   ]
  },
  {
   "cell_type": "code",
   "execution_count": 9,
   "metadata": {},
   "outputs": [],
   "source": [
    "Predictions = get_predictions(W,X_test)\n",
    "np.savetxt(output_path,Predictions,fmt=\"%i\")"
   ]
  },
  {
   "cell_type": "code",
   "execution_count": null,
   "metadata": {},
   "outputs": [],
   "source": []
  }
 ],
 "metadata": {
  "kernelspec": {
   "display_name": "Python 3",
   "language": "python",
   "name": "python3"
  },
  "language_info": {
   "codemirror_mode": {
    "name": "ipython",
    "version": 3
   },
   "file_extension": ".py",
   "mimetype": "text/x-python",
   "name": "python",
   "nbconvert_exporter": "python",
   "pygments_lexer": "ipython3",
   "version": "3.6.5"
  }
 },
 "nbformat": 4,
 "nbformat_minor": 2
}
